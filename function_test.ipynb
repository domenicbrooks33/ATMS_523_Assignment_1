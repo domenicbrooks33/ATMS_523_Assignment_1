{
 "cells": [
  {
   "cell_type": "markdown",
   "id": "b4ca67e9",
   "metadata": {},
   "source": [
    "## This is a test"
   ]
  },
  {
   "cell_type": "code",
   "execution_count": 1,
   "id": "33d300c8",
   "metadata": {},
   "outputs": [
    {
     "name": "stdout",
     "output_type": "stream",
     "text": [
      "Calculating: 1.00 + 2.00\n",
      "Sum =  3.0\n"
     ]
    }
   ],
   "source": [
    "\n",
    "def addition():\n",
    "        \"\"\"Return the sum of 2 float values inputted by the user\"\"\"\n",
    "\n",
    "        # Loop for allowing user to re-input values if incorrect format at first\n",
    "        while True: \n",
    "                num1 = input('Enter value 1 (must be float with no more than 2 decimal places): ')\n",
    "                num2 = input('Enter value 2 (must be float with no more than 2 decimal places): ')\n",
    "                try:\n",
    "                    num1 = float(num1)\n",
    "                    num2 = float(num2)\n",
    "                    print(f'Calculating: {num1:.2f} + {num2:.2f}')\n",
    "                    sum = num1 + num2\n",
    "                    break\n",
    "                except ValueError: \n",
    "                    print('Invalid data format, re-try with float')\n",
    "\n",
    "        return sum\n",
    "\n",
    "x = addition()\n",
    "print('Sum = ', x)"
   ]
  },
  {
   "cell_type": "markdown",
   "id": "b3357751",
   "metadata": {},
   "source": [
    "## Testing to see changes on branch"
   ]
  }
 ],
 "metadata": {
  "kernelspec": {
   "display_name": "base",
   "language": "python",
   "name": "python3"
  },
  "language_info": {
   "codemirror_mode": {
    "name": "ipython",
    "version": 3
   },
   "file_extension": ".py",
   "mimetype": "text/x-python",
   "name": "python",
   "nbconvert_exporter": "python",
   "pygments_lexer": "ipython3",
   "version": "3.11.6"
  }
 },
 "nbformat": 4,
 "nbformat_minor": 5
}
