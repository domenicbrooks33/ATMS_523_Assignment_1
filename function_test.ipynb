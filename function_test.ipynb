{
 "cells": [
  {
   "cell_type": "markdown",
   "id": "b4ca67e9",
   "metadata": {},
   "source": [
    "## This is a test"
   ]
  },
  {
   "cell_type": "code",
   "execution_count": 3,
   "id": "33d300c8",
   "metadata": {},
   "outputs": [
    {
     "name": "stdout",
     "output_type": "stream",
     "text": [
      "Invalid data format, re-try with float\n",
      "Calculating: 2.00 + 3.00\n",
      "Sum =  5.0\n"
     ]
    }
   ],
   "source": [
    "def addition():\n",
    "        \"\"\"Return the sum of 2 float values inputted by the user\"\"\"\n",
    "        while True: \n",
    "                num1 = input('Enter value 1 (must be float with no more than 2 decimal places): ')\n",
    "                num2 = input('Enter value 2 (must be float with no more than 2 decimal places): ')\n",
    "                try:\n",
    "                    num1 = float(num1)\n",
    "                    num2 = float(num2)\n",
    "                    print(f'Calculating: {num1:.2f} + {num2:.2f}')\n",
    "                    sum = num1 + num2\n",
    "                    break\n",
    "                except ValueError: \n",
    "                    print('Invalid data format, re-try with float')\n",
    "\n",
    "        return sum\n",
    "\n",
    "x = addition()\n",
    "print('Sum = ', x)"
   ]
  }
 ],
 "metadata": {
  "kernelspec": {
   "display_name": "base",
   "language": "python",
   "name": "python3"
  },
  "language_info": {
   "codemirror_mode": {
    "name": "ipython",
    "version": 3
   },
   "file_extension": ".py",
   "mimetype": "text/x-python",
   "name": "python",
   "nbconvert_exporter": "python",
   "pygments_lexer": "ipython3",
   "version": "3.11.6"
  }
 },
 "nbformat": 4,
 "nbformat_minor": 5
}
